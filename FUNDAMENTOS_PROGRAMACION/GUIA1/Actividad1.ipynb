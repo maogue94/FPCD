{
 "cells": [
  {
   "cell_type": "markdown",
   "id": "c58d869e-75c8-4fb6-bd27-9c18c542cb8d",
   "metadata": {},
   "source": [
    "## Actividad 1. Funciones y tipos de variables\n",
    "#### Mario Guerra Gualy"
   ]
  },
  {
   "cell_type": "markdown",
   "id": "1a959e81-69bf-46af-b47e-8a1592da2daa",
   "metadata": {},
   "source": [
    "### Cargue de Librerias"
   ]
  },
  {
   "cell_type": "code",
   "execution_count": 10,
   "id": "216dd9c5-badd-42fe-a025-43bdf4ab3728",
   "metadata": {},
   "outputs": [],
   "source": [
    "import pandas as pd\n",
    "import numpy as np\n",
    "import matplotlib.pyplot as plt\n",
    "import os\n",
    "pd.set_option('display.max_columns', None)"
   ]
  },
  {
   "cell_type": "markdown",
   "id": "56b07bbd-c29c-4dcd-a9bb-a54b551a3b29",
   "metadata": {},
   "source": [
    "### Cargue archivo"
   ]
  },
  {
   "cell_type": "code",
   "execution_count": 11,
   "id": "627ce54d-f287-448a-9a62-2485f167e1bd",
   "metadata": {},
   "outputs": [
    {
     "data": {
      "text/html": [
       "<div>\n",
       "<style scoped>\n",
       "    .dataframe tbody tr th:only-of-type {\n",
       "        vertical-align: middle;\n",
       "    }\n",
       "\n",
       "    .dataframe tbody tr th {\n",
       "        vertical-align: top;\n",
       "    }\n",
       "\n",
       "    .dataframe thead th {\n",
       "        text-align: right;\n",
       "    }\n",
       "</style>\n",
       "<table border=\"1\" class=\"dataframe\">\n",
       "  <thead>\n",
       "    <tr style=\"text-align: right;\">\n",
       "      <th></th>\n",
       "      <th>age</th>\n",
       "      <th>workclass</th>\n",
       "      <th>fnlwgt</th>\n",
       "      <th>education</th>\n",
       "      <th>education-num</th>\n",
       "      <th>marital-status</th>\n",
       "      <th>occupation</th>\n",
       "      <th>relationship</th>\n",
       "      <th>race</th>\n",
       "      <th>sex</th>\n",
       "      <th>capital-gain</th>\n",
       "      <th>capital-loss</th>\n",
       "      <th>hours-per-week</th>\n",
       "      <th>native-country</th>\n",
       "      <th>income</th>\n",
       "    </tr>\n",
       "  </thead>\n",
       "  <tbody>\n",
       "    <tr>\n",
       "      <th>0</th>\n",
       "      <td>39</td>\n",
       "      <td>State-gov</td>\n",
       "      <td>77516</td>\n",
       "      <td>Bachelors</td>\n",
       "      <td>13</td>\n",
       "      <td>Never-married</td>\n",
       "      <td>Adm-clerical</td>\n",
       "      <td>Not-in-family</td>\n",
       "      <td>White</td>\n",
       "      <td>Male</td>\n",
       "      <td>2174</td>\n",
       "      <td>0</td>\n",
       "      <td>40</td>\n",
       "      <td>United-States</td>\n",
       "      <td>&lt;=50K</td>\n",
       "    </tr>\n",
       "    <tr>\n",
       "      <th>1</th>\n",
       "      <td>50</td>\n",
       "      <td>Self-emp-not-inc</td>\n",
       "      <td>83311</td>\n",
       "      <td>Bachelors</td>\n",
       "      <td>13</td>\n",
       "      <td>Married-civ-spouse</td>\n",
       "      <td>Exec-managerial</td>\n",
       "      <td>Husband</td>\n",
       "      <td>White</td>\n",
       "      <td>Male</td>\n",
       "      <td>0</td>\n",
       "      <td>0</td>\n",
       "      <td>13</td>\n",
       "      <td>United-States</td>\n",
       "      <td>&lt;=50K</td>\n",
       "    </tr>\n",
       "    <tr>\n",
       "      <th>2</th>\n",
       "      <td>38</td>\n",
       "      <td>Private</td>\n",
       "      <td>215646</td>\n",
       "      <td>HS-grad</td>\n",
       "      <td>9</td>\n",
       "      <td>Divorced</td>\n",
       "      <td>Handlers-cleaners</td>\n",
       "      <td>Not-in-family</td>\n",
       "      <td>White</td>\n",
       "      <td>Male</td>\n",
       "      <td>0</td>\n",
       "      <td>0</td>\n",
       "      <td>40</td>\n",
       "      <td>United-States</td>\n",
       "      <td>&lt;=50K</td>\n",
       "    </tr>\n",
       "    <tr>\n",
       "      <th>3</th>\n",
       "      <td>53</td>\n",
       "      <td>Private</td>\n",
       "      <td>234721</td>\n",
       "      <td>11th</td>\n",
       "      <td>7</td>\n",
       "      <td>Married-civ-spouse</td>\n",
       "      <td>Handlers-cleaners</td>\n",
       "      <td>Husband</td>\n",
       "      <td>Black</td>\n",
       "      <td>Male</td>\n",
       "      <td>0</td>\n",
       "      <td>0</td>\n",
       "      <td>40</td>\n",
       "      <td>United-States</td>\n",
       "      <td>&lt;=50K</td>\n",
       "    </tr>\n",
       "    <tr>\n",
       "      <th>4</th>\n",
       "      <td>28</td>\n",
       "      <td>Private</td>\n",
       "      <td>338409</td>\n",
       "      <td>Bachelors</td>\n",
       "      <td>13</td>\n",
       "      <td>Married-civ-spouse</td>\n",
       "      <td>Prof-specialty</td>\n",
       "      <td>Wife</td>\n",
       "      <td>Black</td>\n",
       "      <td>Female</td>\n",
       "      <td>0</td>\n",
       "      <td>0</td>\n",
       "      <td>40</td>\n",
       "      <td>Cuba</td>\n",
       "      <td>&lt;=50K</td>\n",
       "    </tr>\n",
       "  </tbody>\n",
       "</table>\n",
       "</div>"
      ],
      "text/plain": [
       "   age         workclass  fnlwgt  education  education-num  \\\n",
       "0   39         State-gov   77516  Bachelors             13   \n",
       "1   50  Self-emp-not-inc   83311  Bachelors             13   \n",
       "2   38           Private  215646    HS-grad              9   \n",
       "3   53           Private  234721       11th              7   \n",
       "4   28           Private  338409  Bachelors             13   \n",
       "\n",
       "       marital-status         occupation   relationship   race     sex  \\\n",
       "0       Never-married       Adm-clerical  Not-in-family  White    Male   \n",
       "1  Married-civ-spouse    Exec-managerial        Husband  White    Male   \n",
       "2            Divorced  Handlers-cleaners  Not-in-family  White    Male   \n",
       "3  Married-civ-spouse  Handlers-cleaners        Husband  Black    Male   \n",
       "4  Married-civ-spouse     Prof-specialty           Wife  Black  Female   \n",
       "\n",
       "   capital-gain  capital-loss  hours-per-week native-country income  \n",
       "0          2174             0              40  United-States  <=50K  \n",
       "1             0             0              13  United-States  <=50K  \n",
       "2             0             0              40  United-States  <=50K  \n",
       "3             0             0              40  United-States  <=50K  \n",
       "4             0             0              40           Cuba  <=50K  "
      ]
     },
     "execution_count": 11,
     "metadata": {},
     "output_type": "execute_result"
    }
   ],
   "source": [
    "df_ingresos=pd.read_csv(\"ARCHIVOS/census_income.csv\", sep=\",\", index_col=0)\n",
    "df_ingresos.head()"
   ]
  },
  {
   "cell_type": "markdown",
   "id": "a8d0a227-de21-4cfe-b418-604d838c1afc",
   "metadata": {},
   "source": [
    "### Detalle de variables en el conjunto de datos"
   ]
  },
  {
   "attachments": {
    "5739af6f-2a29-451f-a491-6cda1e6bd47c.png": {
     "image/png": "[encoded data removed]"
    }
   },
   "cell_type": "markdown",
   "id": "c0f9cfea-f1cb-4fcf-8cf2-ac3c6b418eac",
   "metadata": {},
   "source": [
    "![image.png](attachment:5739af6f-2a29-451f-a491-6cda1e6bd47c.png)50K, <=50K.\tNo\r\n"
   ]
  },
  {
   "cell_type": "markdown",
   "id": "d5920e40-6470-49aa-9f32-da0214b02b40",
   "metadata": {},
   "source": [
    "Podemos observar que este conjunto de datos representa los datos demograficos de adultos para a partir de ellos determinar si su ingresos son mayores o no a $50.000/año. Cambiaremos los nombres de las columnas a español"
   ]
  },
  {
   "cell_type": "code",
   "execution_count": 14,
   "id": "ed2f3719-3a18-45e0-8f9c-4b323cdd67fb",
   "metadata": {},
   "outputs": [],
   "source": [
    "df_ingresos.columns=['anio','clase_trabajo','fnlwt','educacion','nivel_educacion','estado_civil','ocupacion','relacion','raza','sexo','capital_ganado','capital_perdido','horasxsemana','pais_nativo','ingresos']"
   ]
  },
  {
   "cell_type": "code",
   "execution_count": 15,
   "id": "cf406848-a067-4f8e-82ef-9738b942a700",
   "metadata": {},
   "outputs": [
    {
     "data": {
      "text/plain": [
       "(48842, 15)"
      ]
     },
     "execution_count": 15,
     "metadata": {},
     "output_type": "execute_result"
    }
   ],
   "source": [
    "df_ingresos.shape"
   ]
  },
  {
   "cell_type": "code",
   "execution_count": 13,
   "id": "1291d0ff-75ac-4563-b77e-d30a18637e81",
   "metadata": {},
   "outputs": [
    {
     "name": "stdout",
     "output_type": "stream",
     "text": [
      "<class 'pandas.core.frame.DataFrame'>\n",
      "Index: 48842 entries, 0 to 48841\n",
      "Data columns (total 15 columns):\n",
      " #   Column           Non-Null Count  Dtype \n",
      "---  ------           --------------  ----- \n",
      " 0   anio             48842 non-null  int64 \n",
      " 1   clase_trabajo    47879 non-null  object\n",
      " 2   fnlwt            48842 non-null  int64 \n",
      " 3   educacion        48842 non-null  object\n",
      " 4   nivel_educacion  48842 non-null  int64 \n",
      " 5   estado_civil     48842 non-null  object\n",
      " 6   ocupacion        47876 non-null  object\n",
      " 7   relacion         48842 non-null  object\n",
      " 8   raza             48842 non-null  object\n",
      " 9   sexo             48842 non-null  object\n",
      " 10  capital_ganado   48842 non-null  int64 \n",
      " 11  capital_perdido  48842 non-null  int64 \n",
      " 12  horasxsemana     48842 non-null  int64 \n",
      " 13  pais_nativo      48568 non-null  object\n",
      " 14  ingresos         48842 non-null  object\n",
      "dtypes: int64(6), object(9)\n",
      "memory usage: 6.0+ MB\n"
     ]
    }
   ],
   "source": [
    "df_ingresos.info()"
   ]
  },
  {
   "cell_type": "markdown",
   "id": "f1a94c0c-f194-4ca8-ad15-1de188bc73d9",
   "metadata": {},
   "source": [
    "El informe resumen nos muestra que son 48842 registros con un total de 15 columnas. Observamos que hay tres columnas que presenta valores nulos, entemos a analizar cada una de ellas"
   ]
  },
  {
   "cell_type": "markdown",
   "id": "7a01ea24-857f-428e-943b-72bf323135f5",
   "metadata": {},
   "source": [
    "#### Columna Clase trabajo"
   ]
  },
  {
   "cell_type": "code",
   "execution_count": 19,
   "id": "3998b4df-0802-40c4-b2e4-5eb27c2501c5",
   "metadata": {},
   "outputs": [
    {
     "data": {
      "text/plain": [
       "10"
      ]
     },
     "execution_count": 19,
     "metadata": {},
     "output_type": "execute_result"
    }
   ],
   "source": [
    "df_ingresos['clase_trabajo'].nunique(dropna=False)"
   ]
  },
  {
   "cell_type": "markdown",
   "id": "26a014e0-ab23-418f-8537-1c35a4d853aa",
   "metadata": {},
   "source": [
    "Se encuentran 10 tipos de categorias de trabajos, los cuales son:"
   ]
  },
  {
   "cell_type": "code",
   "execution_count": 21,
   "id": "d654ba98-bb8a-4b81-9abc-7a3b2c1042bf",
   "metadata": {},
   "outputs": [
    {
     "data": {
      "text/plain": [
       "array(['State-gov', 'Self-emp-not-inc', 'Private', 'Federal-gov',\n",
       "       'Local-gov', '?', 'Self-emp-inc', 'Without-pay', 'Never-worked',\n",
       "       nan], dtype=object)"
      ]
     },
     "execution_count": 21,
     "metadata": {},
     "output_type": "execute_result"
    }
   ],
   "source": [
    "df_ingresos['clase_trabajo'].unique()"
   ]
  },
  {
   "cell_type": "markdown",
   "id": "1d1d085f-022a-45d8-93f3-eb8fdae03a51",
   "metadata": {},
   "source": [
    "El conteo de registros por clase de trabajo es el siguiente:"
   ]
  },
  {
   "cell_type": "code",
   "execution_count": 22,
   "id": "fec5f19f-24af-436d-93cf-d309cdb8577a",
   "metadata": {},
   "outputs": [
    {
     "data": {
      "text/plain": [
       "clase_trabajo\n",
       "Private             33906\n",
       "Self-emp-not-inc     3862\n",
       "Local-gov            3136\n",
       "State-gov            1981\n",
       "?                    1836\n",
       "Self-emp-inc         1695\n",
       "Federal-gov          1432\n",
       "NaN                   963\n",
       "Without-pay            21\n",
       "Never-worked           10\n",
       "Name: count, dtype: int64"
      ]
     },
     "execution_count": 22,
     "metadata": {},
     "output_type": "execute_result"
    }
   ],
   "source": [
    "df_ingresos['clase_trabajo'].value_counts(dropna=False)"
   ]
  },
  {
   "cell_type": "markdown",
   "id": "b868eccb-7c70-4bc5-a2cf-2c0155251df3",
   "metadata": {},
   "source": [
    "Para clase de trabajo se Observa que la mayoria de personas tiene un trabajo en empresas privadas, vemos un tipo de trabajo con ?(1836 registros), que puede significar que es un error en el ingreso de los datos y tenemos 963 registros nulos, como validaremos continuación:"
   ]
  },
  {
   "cell_type": "code",
   "execution_count": 8,
   "id": "5cc4e666-7e56-408d-a06e-6d042259d5c0",
   "metadata": {},
   "outputs": [
    {
     "data": {
      "text/plain": [
       "963"
      ]
     },
     "execution_count": 8,
     "metadata": {},
     "output_type": "execute_result"
    }
   ],
   "source": [
    "df_ingresos['clase_trabajo'].isnull().sum()"
   ]
  },
  {
   "cell_type": "markdown",
   "id": "d7201e43-0df7-4681-a57b-43cae3c8af76",
   "metadata": {},
   "source": [
    "#### Columna Ocupacion"
   ]
  },
  {
   "cell_type": "code",
   "execution_count": 23,
   "id": "229d7300-a7a7-4262-8777-fc01749b2802",
   "metadata": {},
   "outputs": [
    {
     "data": {
      "text/plain": [
       "16"
      ]
     },
     "execution_count": 23,
     "metadata": {},
     "output_type": "execute_result"
    }
   ],
   "source": [
    "df_ingresos['ocupacion'].nunique(dropna=False)"
   ]
  },
  {
   "cell_type": "markdown",
   "id": "a6e66eee-d17e-4950-9188-fafee8d5709c",
   "metadata": {},
   "source": [
    "Se evidencia 16 tipos de ocupación, los cuales son:"
   ]
  },
  {
   "cell_type": "code",
   "execution_count": 25,
   "id": "91ae2cb3-4d27-4ec1-9924-932a579da8a7",
   "metadata": {},
   "outputs": [
    {
     "data": {
      "text/plain": [
       "array(['Adm-clerical', 'Exec-managerial', 'Handlers-cleaners',\n",
       "       'Prof-specialty', 'Other-service', 'Sales', 'Craft-repair',\n",
       "       'Transport-moving', 'Farming-fishing', 'Machine-op-inspct',\n",
       "       'Tech-support', '?', 'Protective-serv', 'Armed-Forces',\n",
       "       'Priv-house-serv', nan], dtype=object)"
      ]
     },
     "execution_count": 25,
     "metadata": {},
     "output_type": "execute_result"
    }
   ],
   "source": [
    "df_ingresos['ocupacion'].unique()"
   ]
  },
  {
   "cell_type": "markdown",
   "id": "af59cba5-b365-4d5c-bb62-de49e6bc8544",
   "metadata": {},
   "source": [
    "El conteo de registros por ocuapcion es el siguiente:"
   ]
  },
  {
   "cell_type": "code",
   "execution_count": 26,
   "id": "002873e2-4c7e-4ebf-adb6-9ef81ebae6a3",
   "metadata": {},
   "outputs": [
    {
     "data": {
      "text/plain": [
       "ocupacion\n",
       "Prof-specialty       6172\n",
       "Craft-repair         6112\n",
       "Exec-managerial      6086\n",
       "Adm-clerical         5611\n",
       "Sales                5504\n",
       "Other-service        4923\n",
       "Machine-op-inspct    3022\n",
       "Transport-moving     2355\n",
       "Handlers-cleaners    2072\n",
       "?                    1843\n",
       "Farming-fishing      1490\n",
       "Tech-support         1446\n",
       "Protective-serv       983\n",
       "NaN                   966\n",
       "Priv-house-serv       242\n",
       "Armed-Forces           15\n",
       "Name: count, dtype: int64"
      ]
     },
     "execution_count": 26,
     "metadata": {},
     "output_type": "execute_result"
    }
   ],
   "source": [
    "df_ingresos['ocupacion'].value_counts(dropna=False)"
   ]
  },
  {
   "cell_type": "markdown",
   "id": "3fdb984c-8226-4b9f-b452-822bba4457bd",
   "metadata": {},
   "source": [
    "las ocuapciones estan ams equilibradas a nivel de datos, la mayor ocuapcion es los profesioanles especializados, seguido de los encargados de reparacion, vemos nuevamente  una ocupacion con nombre ?, esto debe ser un error de digitacion y hay 966 vacios, como se valida a continuacion:"
   ]
  },
  {
   "cell_type": "code",
   "execution_count": 27,
   "id": "3ef5dd6d-1db9-4bee-8a40-a9c43283a66b",
   "metadata": {},
   "outputs": [
    {
     "data": {
      "text/plain": [
       "966"
      ]
     },
     "execution_count": 27,
     "metadata": {},
     "output_type": "execute_result"
    }
   ],
   "source": [
    "df_ingresos['ocupacion'].isnull().sum()"
   ]
  },
  {
   "cell_type": "markdown",
   "id": "6a67b244-9490-4da4-94ae-c9576e7bc473",
   "metadata": {},
   "source": [
    "#### Columna Pais nativo"
   ]
  },
  {
   "cell_type": "code",
   "execution_count": 28,
   "id": "a2abdce0-ad55-43df-99d2-5ea1e79afdec",
   "metadata": {},
   "outputs": [
    {
     "data": {
      "text/plain": [
       "43"
      ]
     },
     "execution_count": 28,
     "metadata": {},
     "output_type": "execute_result"
    }
   ],
   "source": [
    "df_ingresos['pais_nativo'].nunique(dropna=False)"
   ]
  },
  {
   "cell_type": "markdown",
   "id": "49a7d2f5-65d9-4856-903c-2f0e4c532d1f",
   "metadata": {},
   "source": [
    "Se evidencia un alto numero de paises, esto permite tener una base de datos diversa,ya que las condiciones laborales son muy diferentes en cada pais, los paises son los siguientes:"
   ]
  },
  {
   "cell_type": "code",
   "execution_count": 29,
   "id": "5076ad42-dd0a-4fc0-9c19-341eca56f7b1",
   "metadata": {},
   "outputs": [
    {
     "data": {
      "text/plain": [
       "array(['United-States', 'Cuba', 'Jamaica', 'India', '?', 'Mexico',\n",
       "       'South', 'Puerto-Rico', 'Honduras', 'England', 'Canada', 'Germany',\n",
       "       'Iran', 'Philippines', 'Italy', 'Poland', 'Columbia', 'Cambodia',\n",
       "       'Thailand', 'Ecuador', 'Laos', 'Taiwan', 'Haiti', 'Portugal',\n",
       "       'Dominican-Republic', 'El-Salvador', 'France', 'Guatemala',\n",
       "       'China', 'Japan', 'Yugoslavia', 'Peru',\n",
       "       'Outlying-US(Guam-USVI-etc)', 'Scotland', 'Trinadad&Tobago',\n",
       "       'Greece', 'Nicaragua', 'Vietnam', 'Hong', 'Ireland', 'Hungary',\n",
       "       'Holand-Netherlands', nan], dtype=object)"
      ]
     },
     "execution_count": 29,
     "metadata": {},
     "output_type": "execute_result"
    }
   ],
   "source": [
    "df_ingresos['pais_nativo'].unique()"
   ]
  },
  {
   "cell_type": "markdown",
   "id": "0e14361d-17ac-4b52-b349-95ecc6e612fa",
   "metadata": {},
   "source": [
    "El conteo de registros por pais es el siguiente:"
   ]
  },
  {
   "cell_type": "code",
   "execution_count": 30,
   "id": "e36b8bc9-ef06-4af7-b169-1033c32cc52b",
   "metadata": {},
   "outputs": [
    {
     "data": {
      "text/plain": [
       "pais_nativo\n",
       "United-States                 43832\n",
       "Mexico                          951\n",
       "?                               583\n",
       "Philippines                     295\n",
       "NaN                             274\n",
       "Germany                         206\n",
       "Puerto-Rico                     184\n",
       "Canada                          182\n",
       "El-Salvador                     155\n",
       "India                           151\n",
       "Cuba                            138\n",
       "England                         127\n",
       "China                           122\n",
       "South                           115\n",
       "Jamaica                         106\n",
       "Italy                           105\n",
       "Dominican-Republic              103\n",
       "Japan                            92\n",
       "Guatemala                        88\n",
       "Poland                           87\n",
       "Vietnam                          86\n",
       "Columbia                         85\n",
       "Haiti                            75\n",
       "Portugal                         67\n",
       "Taiwan                           65\n",
       "Iran                             59\n",
       "Greece                           49\n",
       "Nicaragua                        49\n",
       "Peru                             46\n",
       "Ecuador                          45\n",
       "France                           38\n",
       "Ireland                          37\n",
       "Hong                             30\n",
       "Thailand                         30\n",
       "Cambodia                         28\n",
       "Trinadad&Tobago                  27\n",
       "Outlying-US(Guam-USVI-etc)       23\n",
       "Laos                             23\n",
       "Yugoslavia                       23\n",
       "Scotland                         21\n",
       "Honduras                         20\n",
       "Hungary                          19\n",
       "Holand-Netherlands                1\n",
       "Name: count, dtype: int64"
      ]
     },
     "execution_count": 30,
     "metadata": {},
     "output_type": "execute_result"
    }
   ],
   "source": [
    "df_ingresos['pais_nativo'].value_counts(dropna=False)"
   ]
  },
  {
   "cell_type": "markdown",
   "id": "6b65c68b-1322-466f-917b-278766a3c39a",
   "metadata": {},
   "source": [
    "Aca se nota un desbalanceo de losd atos ya que la mayor de la poblacion es de estados unidos, nuevamente se evidencia datos registrados al valor ? y se encuentran 274 registros nulos, como se valida a continuacion:"
   ]
  },
  {
   "cell_type": "code",
   "execution_count": 31,
   "id": "200bdd5c-17f1-4041-8db3-726ae49e62c5",
   "metadata": {},
   "outputs": [
    {
     "data": {
      "text/plain": [
       "274"
      ]
     },
     "execution_count": 31,
     "metadata": {},
     "output_type": "execute_result"
    }
   ],
   "source": [
    "df_ingresos['pais_nativo'].isnull().sum()"
   ]
  },
  {
   "cell_type": "markdown",
   "id": "3a9118d8-b1f9-44f2-9a63-ef1aeed6801b",
   "metadata": {},
   "source": [
    "#### Valores estadisticos"
   ]
  },
  {
   "cell_type": "code",
   "execution_count": 32,
   "id": "972c992c-b5c8-4faa-9997-79d3bb3c06fd",
   "metadata": {},
   "outputs": [
    {
     "data": {
      "text/html": [
       "<div>\n",
       "<style scoped>\n",
       "    .dataframe tbody tr th:only-of-type {\n",
       "        vertical-align: middle;\n",
       "    }\n",
       "\n",
       "    .dataframe tbody tr th {\n",
       "        vertical-align: top;\n",
       "    }\n",
       "\n",
       "    .dataframe thead th {\n",
       "        text-align: right;\n",
       "    }\n",
       "</style>\n",
       "<table border=\"1\" class=\"dataframe\">\n",
       "  <thead>\n",
       "    <tr style=\"text-align: right;\">\n",
       "      <th></th>\n",
       "      <th>clase_trabajo</th>\n",
       "      <th>educacion</th>\n",
       "      <th>estado_civil</th>\n",
       "      <th>ocupacion</th>\n",
       "      <th>relacion</th>\n",
       "      <th>raza</th>\n",
       "      <th>sexo</th>\n",
       "      <th>pais_nativo</th>\n",
       "      <th>ingresos</th>\n",
       "    </tr>\n",
       "  </thead>\n",
       "  <tbody>\n",
       "    <tr>\n",
       "      <th>count</th>\n",
       "      <td>47879</td>\n",
       "      <td>48842</td>\n",
       "      <td>48842</td>\n",
       "      <td>47876</td>\n",
       "      <td>48842</td>\n",
       "      <td>48842</td>\n",
       "      <td>48842</td>\n",
       "      <td>48568</td>\n",
       "      <td>48842</td>\n",
       "    </tr>\n",
       "    <tr>\n",
       "      <th>unique</th>\n",
       "      <td>9</td>\n",
       "      <td>16</td>\n",
       "      <td>7</td>\n",
       "      <td>15</td>\n",
       "      <td>6</td>\n",
       "      <td>5</td>\n",
       "      <td>2</td>\n",
       "      <td>42</td>\n",
       "      <td>4</td>\n",
       "    </tr>\n",
       "    <tr>\n",
       "      <th>top</th>\n",
       "      <td>Private</td>\n",
       "      <td>HS-grad</td>\n",
       "      <td>Married-civ-spouse</td>\n",
       "      <td>Prof-specialty</td>\n",
       "      <td>Husband</td>\n",
       "      <td>White</td>\n",
       "      <td>Male</td>\n",
       "      <td>United-States</td>\n",
       "      <td>&lt;=50K</td>\n",
       "    </tr>\n",
       "    <tr>\n",
       "      <th>freq</th>\n",
       "      <td>33906</td>\n",
       "      <td>15784</td>\n",
       "      <td>22379</td>\n",
       "      <td>6172</td>\n",
       "      <td>19716</td>\n",
       "      <td>41762</td>\n",
       "      <td>32650</td>\n",
       "      <td>43832</td>\n",
       "      <td>24720</td>\n",
       "    </tr>\n",
       "  </tbody>\n",
       "</table>\n",
       "</div>"
      ],
      "text/plain": [
       "       clase_trabajo educacion        estado_civil       ocupacion relacion  \\\n",
       "count          47879     48842               48842           47876    48842   \n",
       "unique             9        16                   7              15        6   \n",
       "top          Private   HS-grad  Married-civ-spouse  Prof-specialty  Husband   \n",
       "freq           33906     15784               22379            6172    19716   \n",
       "\n",
       "         raza   sexo    pais_nativo ingresos  \n",
       "count   48842  48842          48568    48842  \n",
       "unique      5      2             42        4  \n",
       "top     White   Male  United-States    <=50K  \n",
       "freq    41762  32650          43832    24720  "
      ]
     },
     "execution_count": 32,
     "metadata": {},
     "output_type": "execute_result"
    }
   ],
   "source": [
    "df_ingresos.describe(include='object')"
   ]
  },
  {
   "cell_type": "markdown",
   "id": "84071df1-2f96-40b4-a79e-4f185f00d576",
   "metadata": {},
   "source": [
    "Otra forma de ver los datos resumidos, en donde nos enfocamos en los datos categoricos, los demas datos son numericos"
   ]
  },
  {
   "cell_type": "code",
   "execution_count": 33,
   "id": "82b7f6a6-2eeb-4a4f-96c4-eb05e3bfec69",
   "metadata": {},
   "outputs": [
    {
     "data": {
      "text/html": [
       "<div>\n",
       "<style scoped>\n",
       "    .dataframe tbody tr th:only-of-type {\n",
       "        vertical-align: middle;\n",
       "    }\n",
       "\n",
       "    .dataframe tbody tr th {\n",
       "        vertical-align: top;\n",
       "    }\n",
       "\n",
       "    .dataframe thead th {\n",
       "        text-align: right;\n",
       "    }\n",
       "</style>\n",
       "<table border=\"1\" class=\"dataframe\">\n",
       "  <thead>\n",
       "    <tr style=\"text-align: right;\">\n",
       "      <th></th>\n",
       "      <th>anio</th>\n",
       "      <th>fnlwt</th>\n",
       "      <th>nivel_educacion</th>\n",
       "      <th>capital_ganado</th>\n",
       "      <th>capital_perdido</th>\n",
       "      <th>horasxsemana</th>\n",
       "    </tr>\n",
       "  </thead>\n",
       "  <tbody>\n",
       "    <tr>\n",
       "      <th>count</th>\n",
       "      <td>48842.000000</td>\n",
       "      <td>4.884200e+04</td>\n",
       "      <td>48842.000000</td>\n",
       "      <td>48842.000000</td>\n",
       "      <td>48842.000000</td>\n",
       "      <td>48842.000000</td>\n",
       "    </tr>\n",
       "    <tr>\n",
       "      <th>mean</th>\n",
       "      <td>38.643585</td>\n",
       "      <td>1.896641e+05</td>\n",
       "      <td>10.078089</td>\n",
       "      <td>1079.067626</td>\n",
       "      <td>87.502314</td>\n",
       "      <td>40.422382</td>\n",
       "    </tr>\n",
       "    <tr>\n",
       "      <th>std</th>\n",
       "      <td>13.710510</td>\n",
       "      <td>1.056040e+05</td>\n",
       "      <td>2.570973</td>\n",
       "      <td>7452.019058</td>\n",
       "      <td>403.004552</td>\n",
       "      <td>12.391444</td>\n",
       "    </tr>\n",
       "    <tr>\n",
       "      <th>min</th>\n",
       "      <td>17.000000</td>\n",
       "      <td>1.228500e+04</td>\n",
       "      <td>1.000000</td>\n",
       "      <td>0.000000</td>\n",
       "      <td>0.000000</td>\n",
       "      <td>1.000000</td>\n",
       "    </tr>\n",
       "    <tr>\n",
       "      <th>25%</th>\n",
       "      <td>28.000000</td>\n",
       "      <td>1.175505e+05</td>\n",
       "      <td>9.000000</td>\n",
       "      <td>0.000000</td>\n",
       "      <td>0.000000</td>\n",
       "      <td>40.000000</td>\n",
       "    </tr>\n",
       "    <tr>\n",
       "      <th>50%</th>\n",
       "      <td>37.000000</td>\n",
       "      <td>1.781445e+05</td>\n",
       "      <td>10.000000</td>\n",
       "      <td>0.000000</td>\n",
       "      <td>0.000000</td>\n",
       "      <td>40.000000</td>\n",
       "    </tr>\n",
       "    <tr>\n",
       "      <th>75%</th>\n",
       "      <td>48.000000</td>\n",
       "      <td>2.376420e+05</td>\n",
       "      <td>12.000000</td>\n",
       "      <td>0.000000</td>\n",
       "      <td>0.000000</td>\n",
       "      <td>45.000000</td>\n",
       "    </tr>\n",
       "    <tr>\n",
       "      <th>max</th>\n",
       "      <td>90.000000</td>\n",
       "      <td>1.490400e+06</td>\n",
       "      <td>16.000000</td>\n",
       "      <td>99999.000000</td>\n",
       "      <td>4356.000000</td>\n",
       "      <td>99.000000</td>\n",
       "    </tr>\n",
       "  </tbody>\n",
       "</table>\n",
       "</div>"
      ],
      "text/plain": [
       "               anio         fnlwt  nivel_educacion  capital_ganado  \\\n",
       "count  48842.000000  4.884200e+04     48842.000000    48842.000000   \n",
       "mean      38.643585  1.896641e+05        10.078089     1079.067626   \n",
       "std       13.710510  1.056040e+05         2.570973     7452.019058   \n",
       "min       17.000000  1.228500e+04         1.000000        0.000000   \n",
       "25%       28.000000  1.175505e+05         9.000000        0.000000   \n",
       "50%       37.000000  1.781445e+05        10.000000        0.000000   \n",
       "75%       48.000000  2.376420e+05        12.000000        0.000000   \n",
       "max       90.000000  1.490400e+06        16.000000    99999.000000   \n",
       "\n",
       "       capital_perdido  horasxsemana  \n",
       "count     48842.000000  48842.000000  \n",
       "mean         87.502314     40.422382  \n",
       "std         403.004552     12.391444  \n",
       "min           0.000000      1.000000  \n",
       "25%           0.000000     40.000000  \n",
       "50%           0.000000     40.000000  \n",
       "75%           0.000000     45.000000  \n",
       "max        4356.000000     99.000000  "
      ]
     },
     "execution_count": 33,
     "metadata": {},
     "output_type": "execute_result"
    }
   ],
   "source": [
    "df_ingresos.describe()"
   ]
  },
  {
   "cell_type": "markdown",
   "id": "6b7bb68e-f562-4e2f-b5c5-573a93e0ef95",
   "metadata": {},
   "source": [
    "### Conclusión"
   ]
  },
  {
   "cell_type": "markdown",
   "id": "5181afa0-3735-40ac-bf7f-d8b4f22441f3",
   "metadata": {},
   "source": [
    "Los datos analizados de este conjuntos de datos de ingresos, vemos que tiene un debalanceo por parte del pais, pero por los tipos de trabajo y ocupaciones esta mas balanceado, adicional tiene registros mal diligenciados que púde afectar un poco en la toamde ddesiones, los valore nulos no son muy representativos, en posteriores actividesde se trabajará en como podemso limpiar estos conjuntos de datos"
   ]
  }
 ],
 "metadata": {
  "kernelspec": {
   "display_name": "Python 3 (ipykernel)",
   "language": "python",
   "name": "python3"
  },
  "language_info": {
   "codemirror_mode": {
    "name": "ipython",
    "version": 3
   },
   "file_extension": ".py",
   "mimetype": "text/x-python",
   "name": "python",
   "nbconvert_exporter": "python",
   "pygments_lexer": "ipython3",
   "version": "3.11.7"
  }
 },
 "nbformat": 4,
 "nbformat_minor": 5
}
