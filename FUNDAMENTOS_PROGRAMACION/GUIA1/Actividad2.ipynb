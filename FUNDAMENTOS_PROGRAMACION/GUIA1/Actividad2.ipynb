{
 "cells": [
  {
   "cell_type": "markdown",
   "id": "c58d869e-75c8-4fb6-bd27-9c18c542cb8d",
   "metadata": {},
   "source": [
    "## Actividad 2. Programa con IF para la limpieza de datos\n",
    "#### Mario Guerra Gualy"
   ]
  },
  {
   "cell_type": "markdown",
   "id": "1a959e81-69bf-46af-b47e-8a1592da2daa",
   "metadata": {},
   "source": [
    "### Cargue de Librerias"
   ]
  },
  {
   "cell_type": "code",
   "execution_count": 87,
   "id": "216dd9c5-badd-42fe-a025-43bdf4ab3728",
   "metadata": {},
   "outputs": [],
   "source": [
    "import pandas as pd\n",
    "import numpy as np\n",
    "import matplotlib.pyplot as plt\n",
    "import os\n",
    "pd.set_option('display.max_columns', None)"
   ]
  },
  {
   "cell_type": "markdown",
   "id": "56b07bbd-c29c-4dcd-a9bb-a54b551a3b29",
   "metadata": {},
   "source": [
    "### Cargue archivo"
   ]
  },
  {
   "cell_type": "code",
   "execution_count": 88,
   "id": "627ce54d-f287-448a-9a62-2485f167e1bd",
   "metadata": {},
   "outputs": [
    {
     "data": {
      "text/html": [
       "<div>\n",
       "<style scoped>\n",
       "    .dataframe tbody tr th:only-of-type {\n",
       "        vertical-align: middle;\n",
       "    }\n",
       "\n",
       "    .dataframe tbody tr th {\n",
       "        vertical-align: top;\n",
       "    }\n",
       "\n",
       "    .dataframe thead th {\n",
       "        text-align: right;\n",
       "    }\n",
       "</style>\n",
       "<table border=\"1\" class=\"dataframe\">\n",
       "  <thead>\n",
       "    <tr style=\"text-align: right;\">\n",
       "      <th></th>\n",
       "      <th>Survived</th>\n",
       "      <th>Pclass</th>\n",
       "      <th>Name</th>\n",
       "      <th>Sex</th>\n",
       "      <th>Age</th>\n",
       "      <th>Siblings/Spouses Aboard</th>\n",
       "      <th>Parents/Children Aboard</th>\n",
       "      <th>Fare</th>\n",
       "    </tr>\n",
       "  </thead>\n",
       "  <tbody>\n",
       "    <tr>\n",
       "      <th>0</th>\n",
       "      <td>0</td>\n",
       "      <td>3</td>\n",
       "      <td>Mr. Owen Harris Braund</td>\n",
       "      <td>male</td>\n",
       "      <td>22.0</td>\n",
       "      <td>1</td>\n",
       "      <td>0</td>\n",
       "      <td>7.2500</td>\n",
       "    </tr>\n",
       "    <tr>\n",
       "      <th>1</th>\n",
       "      <td>1</td>\n",
       "      <td>1</td>\n",
       "      <td>Mrs. John Bradley (Florence Briggs Thayer) Cum...</td>\n",
       "      <td>female</td>\n",
       "      <td>38.0</td>\n",
       "      <td>1</td>\n",
       "      <td>0</td>\n",
       "      <td>71.2833</td>\n",
       "    </tr>\n",
       "    <tr>\n",
       "      <th>2</th>\n",
       "      <td>1</td>\n",
       "      <td>3</td>\n",
       "      <td>Miss. Laina Heikkinen</td>\n",
       "      <td>female</td>\n",
       "      <td>26.0</td>\n",
       "      <td>0</td>\n",
       "      <td>0</td>\n",
       "      <td>7.9250</td>\n",
       "    </tr>\n",
       "    <tr>\n",
       "      <th>3</th>\n",
       "      <td>1</td>\n",
       "      <td>1</td>\n",
       "      <td>Mrs. Jacques Heath (Lily May Peel) Futrelle</td>\n",
       "      <td>female</td>\n",
       "      <td>35.0</td>\n",
       "      <td>1</td>\n",
       "      <td>0</td>\n",
       "      <td>53.1000</td>\n",
       "    </tr>\n",
       "    <tr>\n",
       "      <th>4</th>\n",
       "      <td>0</td>\n",
       "      <td>3</td>\n",
       "      <td>Mr. William Henry Allen</td>\n",
       "      <td>male</td>\n",
       "      <td>35.0</td>\n",
       "      <td>0</td>\n",
       "      <td>0</td>\n",
       "      <td>8.0500</td>\n",
       "    </tr>\n",
       "  </tbody>\n",
       "</table>\n",
       "</div>"
      ],
      "text/plain": [
       "   Survived  Pclass                                               Name  \\\n",
       "0         0       3                             Mr. Owen Harris Braund   \n",
       "1         1       1  Mrs. John Bradley (Florence Briggs Thayer) Cum...   \n",
       "2         1       3                              Miss. Laina Heikkinen   \n",
       "3         1       1        Mrs. Jacques Heath (Lily May Peel) Futrelle   \n",
       "4         0       3                            Mr. William Henry Allen   \n",
       "\n",
       "      Sex   Age  Siblings/Spouses Aboard  Parents/Children Aboard     Fare  \n",
       "0    male  22.0                        1                        0   7.2500  \n",
       "1  female  38.0                        1                        0  71.2833  \n",
       "2  female  26.0                        0                        0   7.9250  \n",
       "3  female  35.0                        1                        0  53.1000  \n",
       "4    male  35.0                        0                        0   8.0500  "
      ]
     },
     "execution_count": 88,
     "metadata": {},
     "output_type": "execute_result"
    }
   ],
   "source": [
    "df_titanic=pd.read_csv(\"ARCHIVOS/titanic.csv\", sep=\",\")\n",
    "df_titanic.head()"
   ]
  },
  {
   "cell_type": "markdown",
   "id": "a8d0a227-de21-4cfe-b418-604d838c1afc",
   "metadata": {},
   "source": [
    "### Detalle de variables en el conjunto de datos"
   ]
  },
  {
   "attachments": {
    "9cccb53f-5300-4943-9696-b8f6d2c5ea86.png": {
     "image/png": "[encoded data removed]"
    }
   },
   "cell_type": "markdown",
   "id": "1ad95934-7822-435f-8587-956921052b4e",
   "metadata": {},
   "source": [
    "![image.png](attachment:9cccb53f-5300-4943-9696-b8f6d2c5ea86.png)tarifa\r\n"
   ]
  },
  {
   "cell_type": "markdown",
   "id": "d5920e40-6470-49aa-9f32-da0214b02b40",
   "metadata": {},
   "source": [
    "Podemos observar que este conjunto de datos representa los datos de pasajeros que se encontraban en el titanic, donde se muestra si sobrevivio o no al desastre, en que clase viajaba, su edad, sexo y datos de numeros de familiares a bordo y la tarifa pagada. Pasaremos los nombresd e las columnas a español"
   ]
  },
  {
   "cell_type": "code",
   "execution_count": 89,
   "id": "ed2f3719-3a18-45e0-8f9c-4b323cdd67fb",
   "metadata": {},
   "outputs": [],
   "source": [
    "df_titanic.columns=['supervivencia','clase_tiquete','nombre','sexo','edad','hermanos_esposas_abordo','padres_hijos_abordo','tarifa']"
   ]
  },
  {
   "cell_type": "code",
   "execution_count": 90,
   "id": "cf406848-a067-4f8e-82ef-9738b942a700",
   "metadata": {},
   "outputs": [
    {
     "data": {
      "text/plain": [
       "(887, 8)"
      ]
     },
     "execution_count": 90,
     "metadata": {},
     "output_type": "execute_result"
    }
   ],
   "source": [
    "df_titanic.shape"
   ]
  },
  {
   "cell_type": "code",
   "execution_count": 91,
   "id": "1291d0ff-75ac-4563-b77e-d30a18637e81",
   "metadata": {},
   "outputs": [
    {
     "name": "stdout",
     "output_type": "stream",
     "text": [
      "<class 'pandas.core.frame.DataFrame'>\n",
      "RangeIndex: 887 entries, 0 to 886\n",
      "Data columns (total 8 columns):\n",
      " #   Column                   Non-Null Count  Dtype  \n",
      "---  ------                   --------------  -----  \n",
      " 0   supervivencia            887 non-null    int64  \n",
      " 1   clase_tiquete            887 non-null    int64  \n",
      " 2   nombre                   887 non-null    object \n",
      " 3   sexo                     887 non-null    object \n",
      " 4   edad                     887 non-null    float64\n",
      " 5   hermanos_esposas_abordo  887 non-null    int64  \n",
      " 6   padres_hijos_abordo      887 non-null    int64  \n",
      " 7   tarifa                   887 non-null    float64\n",
      "dtypes: float64(2), int64(4), object(2)\n",
      "memory usage: 55.6+ KB\n"
     ]
    }
   ],
   "source": [
    "df_titanic.info()"
   ]
  },
  {
   "cell_type": "markdown",
   "id": "f1a94c0c-f194-4ca8-ad15-1de188bc73d9",
   "metadata": {},
   "source": [
    "El informe resumen nos muestra que son 866 registros con un total de 8 columnas. Observamos que no hay que presenten valores nulos, entremos a analizar cada una de ellas"
   ]
  },
  {
   "cell_type": "markdown",
   "id": "7a01ea24-857f-428e-943b-72bf323135f5",
   "metadata": {},
   "source": [
    "#### Columna supervivencia"
   ]
  },
  {
   "cell_type": "code",
   "execution_count": 92,
   "id": "3998b4df-0802-40c4-b2e4-5eb27c2501c5",
   "metadata": {},
   "outputs": [
    {
     "data": {
      "text/plain": [
       "2"
      ]
     },
     "execution_count": 92,
     "metadata": {},
     "output_type": "execute_result"
    }
   ],
   "source": [
    "df_titanic['supervivencia'].nunique(dropna=False)"
   ]
  },
  {
   "cell_type": "markdown",
   "id": "26a014e0-ab23-418f-8537-1c35a4d853aa",
   "metadata": {},
   "source": [
    "Se encuentran 2 tipos de supervivencia, los cuales son:"
   ]
  },
  {
   "cell_type": "code",
   "execution_count": 93,
   "id": "d654ba98-bb8a-4b81-9abc-7a3b2c1042bf",
   "metadata": {},
   "outputs": [
    {
     "data": {
      "text/plain": [
       "array([0, 1], dtype=int64)"
      ]
     },
     "execution_count": 93,
     "metadata": {},
     "output_type": "execute_result"
    }
   ],
   "source": [
    "df_titanic['supervivencia'].unique()"
   ]
  },
  {
   "cell_type": "markdown",
   "id": "1d1d085f-022a-45d8-93f3-eb8fdae03a51",
   "metadata": {},
   "source": [
    "El conteo de registros por clase de trabajo es el siguiente:"
   ]
  },
  {
   "cell_type": "code",
   "execution_count": 94,
   "id": "fec5f19f-24af-436d-93cf-d309cdb8577a",
   "metadata": {},
   "outputs": [
    {
     "data": {
      "text/plain": [
       "supervivencia\n",
       "0    545\n",
       "1    342\n",
       "Name: count, dtype: int64"
      ]
     },
     "execution_count": 94,
     "metadata": {},
     "output_type": "execute_result"
    }
   ],
   "source": [
    "df_titanic['supervivencia'].value_counts(dropna=False)"
   ]
  },
  {
   "cell_type": "markdown",
   "id": "b868eccb-7c70-4bc5-a2cf-2c0155251df3",
   "metadata": {},
   "source": [
    "Observamos que gran parte de poblacion no sobrevivio al desastre ya que representan a 545 pasajeros que perdiron su vida, vs 342 que sobrevivieron"
   ]
  },
  {
   "cell_type": "markdown",
   "id": "d7201e43-0df7-4681-a57b-43cae3c8af76",
   "metadata": {},
   "source": [
    "#### Columna clase_tiquete"
   ]
  },
  {
   "cell_type": "code",
   "execution_count": 95,
   "id": "229d7300-a7a7-4262-8777-fc01749b2802",
   "metadata": {},
   "outputs": [
    {
     "data": {
      "text/plain": [
       "3"
      ]
     },
     "execution_count": 95,
     "metadata": {},
     "output_type": "execute_result"
    }
   ],
   "source": [
    "df_titanic['clase_tiquete'].nunique(dropna=False)"
   ]
  },
  {
   "cell_type": "markdown",
   "id": "a6e66eee-d17e-4950-9188-fafee8d5709c",
   "metadata": {},
   "source": [
    "Se evidencia 3 tipos de clase_tiquete, los cuales son:"
   ]
  },
  {
   "cell_type": "code",
   "execution_count": 96,
   "id": "91ae2cb3-4d27-4ec1-9924-932a579da8a7",
   "metadata": {},
   "outputs": [
    {
     "data": {
      "text/plain": [
       "array([3, 1, 2], dtype=int64)"
      ]
     },
     "execution_count": 96,
     "metadata": {},
     "output_type": "execute_result"
    }
   ],
   "source": [
    "df_titanic['clase_tiquete'].unique()"
   ]
  },
  {
   "cell_type": "markdown",
   "id": "af59cba5-b365-4d5c-bb62-de49e6bc8544",
   "metadata": {},
   "source": [
    "El conteo de registros por ocuapcion es el siguiente:"
   ]
  },
  {
   "cell_type": "code",
   "execution_count": 97,
   "id": "002873e2-4c7e-4ebf-adb6-9ef81ebae6a3",
   "metadata": {},
   "outputs": [
    {
     "data": {
      "text/plain": [
       "clase_tiquete\n",
       "3    487\n",
       "1    216\n",
       "2    184\n",
       "Name: count, dtype: int64"
      ]
     },
     "execution_count": 97,
     "metadata": {},
     "output_type": "execute_result"
    }
   ],
   "source": [
    "df_titanic['clase_tiquete'].value_counts(dropna=False)"
   ]
  },
  {
   "cell_type": "markdown",
   "id": "3fdb984c-8226-4b9f-b452-822bba4457bd",
   "metadata": {},
   "source": [
    "Se observa que la tercera clase es la de mayor población, seguida de la priemra clase y por ultimo segunda clase. veamos cuantas personas se salvaron o no por cada clase"
   ]
  },
  {
   "cell_type": "code",
   "execution_count": 98,
   "id": "89d1e351-cae8-4161-ade2-f3f41a6266bc",
   "metadata": {},
   "outputs": [],
   "source": [
    "df_titanic_no_sobre=df_titanic[df_titanic['supervivencia']==0]\n",
    "df_titanic_si_sobre=df_titanic[df_titanic['supervivencia']==1]"
   ]
  },
  {
   "cell_type": "code",
   "execution_count": 99,
   "id": "e96bb54f-dcda-4a1d-b8dc-302f605d61c6",
   "metadata": {},
   "outputs": [
    {
     "data": {
      "text/plain": [
       "(545, 8)"
      ]
     },
     "execution_count": 99,
     "metadata": {},
     "output_type": "execute_result"
    }
   ],
   "source": [
    "df_titanic_no_sobre.shape"
   ]
  },
  {
   "cell_type": "code",
   "execution_count": 100,
   "id": "cd868a24-2de1-4f48-a6dd-29bce80592be",
   "metadata": {},
   "outputs": [
    {
     "data": {
      "text/plain": [
       "clase_tiquete\n",
       "3    368\n",
       "2     97\n",
       "1     80\n",
       "Name: count, dtype: int64"
      ]
     },
     "execution_count": 100,
     "metadata": {},
     "output_type": "execute_result"
    }
   ],
   "source": [
    "df_titanic_no_sobre['clase_tiquete'].value_counts(dropna=False)"
   ]
  },
  {
   "cell_type": "code",
   "execution_count": 101,
   "id": "1878c242-d2d1-43a5-9b45-78177cd86319",
   "metadata": {},
   "outputs": [
    {
     "data": {
      "text/plain": [
       "clase_tiquete\n",
       "1    136\n",
       "3    119\n",
       "2     87\n",
       "Name: count, dtype: int64"
      ]
     },
     "execution_count": 101,
     "metadata": {},
     "output_type": "execute_result"
    }
   ],
   "source": [
    "df_titanic_si_sobre['clase_tiquete'].value_counts(dropna=False)"
   ]
  },
  {
   "cell_type": "markdown",
   "id": "c4936e98-b7d4-44cb-9e0b-5a9bbe106d10",
   "metadata": {},
   "source": [
    "Como se ve pertenecer a una clase si beneficiaba la probabilidad de salvarse, ya que de primera clase se salvaron 136 de 216, segunda clase se salvaron 87 de 184 y tercera clase 119 de 487"
   ]
  },
  {
   "cell_type": "markdown",
   "id": "6a67b244-9490-4da4-94ae-c9576e7bc473",
   "metadata": {},
   "source": [
    "#### Columna Sexo"
   ]
  },
  {
   "cell_type": "code",
   "execution_count": 102,
   "id": "25346ccb-727c-415b-9bb3-b3c284b50fcc",
   "metadata": {},
   "outputs": [
    {
     "data": {
      "text/plain": [
       "sexo\n",
       "male      573\n",
       "female    314\n",
       "Name: count, dtype: int64"
      ]
     },
     "execution_count": 102,
     "metadata": {},
     "output_type": "execute_result"
    }
   ],
   "source": [
    "df_titanic['sexo'].value_counts(dropna=False)"
   ]
  },
  {
   "cell_type": "code",
   "execution_count": 103,
   "id": "e8b36d25-93d1-4b6c-a6ff-258012b33e62",
   "metadata": {},
   "outputs": [
    {
     "data": {
      "text/html": [
       "<div>\n",
       "<style scoped>\n",
       "    .dataframe tbody tr th:only-of-type {\n",
       "        vertical-align: middle;\n",
       "    }\n",
       "\n",
       "    .dataframe tbody tr th {\n",
       "        vertical-align: top;\n",
       "    }\n",
       "\n",
       "    .dataframe thead th {\n",
       "        text-align: right;\n",
       "    }\n",
       "</style>\n",
       "<table border=\"1\" class=\"dataframe\">\n",
       "  <thead>\n",
       "    <tr style=\"text-align: right;\">\n",
       "      <th>supervivencia</th>\n",
       "      <th>0</th>\n",
       "      <th>1</th>\n",
       "    </tr>\n",
       "    <tr>\n",
       "      <th>sexo</th>\n",
       "      <th></th>\n",
       "      <th></th>\n",
       "    </tr>\n",
       "  </thead>\n",
       "  <tbody>\n",
       "    <tr>\n",
       "      <th>female</th>\n",
       "      <td>81</td>\n",
       "      <td>233</td>\n",
       "    </tr>\n",
       "    <tr>\n",
       "      <th>male</th>\n",
       "      <td>464</td>\n",
       "      <td>109</td>\n",
       "    </tr>\n",
       "  </tbody>\n",
       "</table>\n",
       "</div>"
      ],
      "text/plain": [
       "supervivencia    0    1\n",
       "sexo                   \n",
       "female          81  233\n",
       "male           464  109"
      ]
     },
     "execution_count": 103,
     "metadata": {},
     "output_type": "execute_result"
    }
   ],
   "source": [
    "matriz = pd.crosstab(df_titanic['sexo'], df_titanic['supervivencia'])\n",
    "matriz"
   ]
  },
  {
   "cell_type": "markdown",
   "id": "6b65c68b-1322-466f-917b-278766a3c39a",
   "metadata": {},
   "source": [
    "Aca se nota que se priorizo a las mujeres para que se salvaran con un total de 233, en cambio los hombre fallecidos fueron 464"
   ]
  },
  {
   "cell_type": "markdown",
   "id": "698fed8f-ac0f-4837-9173-57e9cd567ad8",
   "metadata": {},
   "source": [
    "#### Otras variables numéricas"
   ]
  },
  {
   "cell_type": "code",
   "execution_count": 104,
   "id": "6ff9530b-4498-42bf-a3b6-f51b3882572b",
   "metadata": {},
   "outputs": [
    {
     "data": {
      "text/plain": [
       "hermanos_esposas_abordo\n",
       "0    604\n",
       "1    209\n",
       "2     28\n",
       "4     18\n",
       "3     16\n",
       "8      7\n",
       "5      5\n",
       "Name: count, dtype: int64"
      ]
     },
     "execution_count": 104,
     "metadata": {},
     "output_type": "execute_result"
    }
   ],
   "source": [
    "df_titanic['hermanos_esposas_abordo'].value_counts(dropna=False)"
   ]
  },
  {
   "cell_type": "code",
   "execution_count": 105,
   "id": "f9b3573f-8894-4c4d-b557-d4cdb17d0ce6",
   "metadata": {},
   "outputs": [
    {
     "data": {
      "text/plain": [
       "padres_hijos_abordo\n",
       "0    674\n",
       "1    118\n",
       "2     80\n",
       "5      5\n",
       "3      5\n",
       "4      4\n",
       "6      1\n",
       "Name: count, dtype: int64"
      ]
     },
     "execution_count": 105,
     "metadata": {},
     "output_type": "execute_result"
    }
   ],
   "source": [
    "df_titanic['padres_hijos_abordo'].value_counts(dropna=False)"
   ]
  },
  {
   "cell_type": "code",
   "execution_count": 106,
   "id": "efceb9d1-d348-4f74-addf-ad00c4bb35d3",
   "metadata": {},
   "outputs": [
    {
     "data": {
      "text/plain": [
       "edad\n",
       "22.00    39\n",
       "28.00    37\n",
       "18.00    36\n",
       "21.00    34\n",
       "24.00    34\n",
       "         ..\n",
       "0.92      1\n",
       "23.50     1\n",
       "36.50     1\n",
       "55.50     1\n",
       "74.00     1\n",
       "Name: count, Length: 89, dtype: int64"
      ]
     },
     "execution_count": 106,
     "metadata": {},
     "output_type": "execute_result"
    }
   ],
   "source": [
    "df_titanic['edad'].value_counts(dropna=False)"
   ]
  },
  {
   "cell_type": "markdown",
   "id": "3a9118d8-b1f9-44f2-9a63-ef1aeed6801b",
   "metadata": {},
   "source": [
    "#### Valores estadisticos"
   ]
  },
  {
   "cell_type": "code",
   "execution_count": 107,
   "id": "972c992c-b5c8-4faa-9997-79d3bb3c06fd",
   "metadata": {},
   "outputs": [
    {
     "data": {
      "text/html": [
       "<div>\n",
       "<style scoped>\n",
       "    .dataframe tbody tr th:only-of-type {\n",
       "        vertical-align: middle;\n",
       "    }\n",
       "\n",
       "    .dataframe tbody tr th {\n",
       "        vertical-align: top;\n",
       "    }\n",
       "\n",
       "    .dataframe thead th {\n",
       "        text-align: right;\n",
       "    }\n",
       "</style>\n",
       "<table border=\"1\" class=\"dataframe\">\n",
       "  <thead>\n",
       "    <tr style=\"text-align: right;\">\n",
       "      <th></th>\n",
       "      <th>nombre</th>\n",
       "      <th>sexo</th>\n",
       "    </tr>\n",
       "  </thead>\n",
       "  <tbody>\n",
       "    <tr>\n",
       "      <th>count</th>\n",
       "      <td>887</td>\n",
       "      <td>887</td>\n",
       "    </tr>\n",
       "    <tr>\n",
       "      <th>unique</th>\n",
       "      <td>887</td>\n",
       "      <td>2</td>\n",
       "    </tr>\n",
       "    <tr>\n",
       "      <th>top</th>\n",
       "      <td>Mr. Owen Harris Braund</td>\n",
       "      <td>male</td>\n",
       "    </tr>\n",
       "    <tr>\n",
       "      <th>freq</th>\n",
       "      <td>1</td>\n",
       "      <td>573</td>\n",
       "    </tr>\n",
       "  </tbody>\n",
       "</table>\n",
       "</div>"
      ],
      "text/plain": [
       "                        nombre  sexo\n",
       "count                      887   887\n",
       "unique                     887     2\n",
       "top     Mr. Owen Harris Braund  male\n",
       "freq                         1   573"
      ]
     },
     "execution_count": 107,
     "metadata": {},
     "output_type": "execute_result"
    }
   ],
   "source": [
    "df_titanic.describe(include='object')"
   ]
  },
  {
   "cell_type": "markdown",
   "id": "84071df1-2f96-40b4-a79e-4f185f00d576",
   "metadata": {},
   "source": [
    "Otra forma de ver los datos resumidos, en donde nos enfocamos en los datos categoricos, los demas datos son numericos"
   ]
  },
  {
   "cell_type": "code",
   "execution_count": 108,
   "id": "82b7f6a6-2eeb-4a4f-96c4-eb05e3bfec69",
   "metadata": {},
   "outputs": [
    {
     "data": {
      "text/html": [
       "<div>\n",
       "<style scoped>\n",
       "    .dataframe tbody tr th:only-of-type {\n",
       "        vertical-align: middle;\n",
       "    }\n",
       "\n",
       "    .dataframe tbody tr th {\n",
       "        vertical-align: top;\n",
       "    }\n",
       "\n",
       "    .dataframe thead th {\n",
       "        text-align: right;\n",
       "    }\n",
       "</style>\n",
       "<table border=\"1\" class=\"dataframe\">\n",
       "  <thead>\n",
       "    <tr style=\"text-align: right;\">\n",
       "      <th></th>\n",
       "      <th>supervivencia</th>\n",
       "      <th>clase_tiquete</th>\n",
       "      <th>edad</th>\n",
       "      <th>hermanos_esposas_abordo</th>\n",
       "      <th>padres_hijos_abordo</th>\n",
       "      <th>tarifa</th>\n",
       "    </tr>\n",
       "  </thead>\n",
       "  <tbody>\n",
       "    <tr>\n",
       "      <th>count</th>\n",
       "      <td>887.000000</td>\n",
       "      <td>887.000000</td>\n",
       "      <td>887.000000</td>\n",
       "      <td>887.000000</td>\n",
       "      <td>887.000000</td>\n",
       "      <td>887.00000</td>\n",
       "    </tr>\n",
       "    <tr>\n",
       "      <th>mean</th>\n",
       "      <td>0.385569</td>\n",
       "      <td>2.305524</td>\n",
       "      <td>29.471443</td>\n",
       "      <td>0.525366</td>\n",
       "      <td>0.383315</td>\n",
       "      <td>32.30542</td>\n",
       "    </tr>\n",
       "    <tr>\n",
       "      <th>std</th>\n",
       "      <td>0.487004</td>\n",
       "      <td>0.836662</td>\n",
       "      <td>14.121908</td>\n",
       "      <td>1.104669</td>\n",
       "      <td>0.807466</td>\n",
       "      <td>49.78204</td>\n",
       "    </tr>\n",
       "    <tr>\n",
       "      <th>min</th>\n",
       "      <td>0.000000</td>\n",
       "      <td>1.000000</td>\n",
       "      <td>0.420000</td>\n",
       "      <td>0.000000</td>\n",
       "      <td>0.000000</td>\n",
       "      <td>0.00000</td>\n",
       "    </tr>\n",
       "    <tr>\n",
       "      <th>25%</th>\n",
       "      <td>0.000000</td>\n",
       "      <td>2.000000</td>\n",
       "      <td>20.250000</td>\n",
       "      <td>0.000000</td>\n",
       "      <td>0.000000</td>\n",
       "      <td>7.92500</td>\n",
       "    </tr>\n",
       "    <tr>\n",
       "      <th>50%</th>\n",
       "      <td>0.000000</td>\n",
       "      <td>3.000000</td>\n",
       "      <td>28.000000</td>\n",
       "      <td>0.000000</td>\n",
       "      <td>0.000000</td>\n",
       "      <td>14.45420</td>\n",
       "    </tr>\n",
       "    <tr>\n",
       "      <th>75%</th>\n",
       "      <td>1.000000</td>\n",
       "      <td>3.000000</td>\n",
       "      <td>38.000000</td>\n",
       "      <td>1.000000</td>\n",
       "      <td>0.000000</td>\n",
       "      <td>31.13750</td>\n",
       "    </tr>\n",
       "    <tr>\n",
       "      <th>max</th>\n",
       "      <td>1.000000</td>\n",
       "      <td>3.000000</td>\n",
       "      <td>80.000000</td>\n",
       "      <td>8.000000</td>\n",
       "      <td>6.000000</td>\n",
       "      <td>512.32920</td>\n",
       "    </tr>\n",
       "  </tbody>\n",
       "</table>\n",
       "</div>"
      ],
      "text/plain": [
       "       supervivencia  clase_tiquete        edad  hermanos_esposas_abordo  \\\n",
       "count     887.000000     887.000000  887.000000               887.000000   \n",
       "mean        0.385569       2.305524   29.471443                 0.525366   \n",
       "std         0.487004       0.836662   14.121908                 1.104669   \n",
       "min         0.000000       1.000000    0.420000                 0.000000   \n",
       "25%         0.000000       2.000000   20.250000                 0.000000   \n",
       "50%         0.000000       3.000000   28.000000                 0.000000   \n",
       "75%         1.000000       3.000000   38.000000                 1.000000   \n",
       "max         1.000000       3.000000   80.000000                 8.000000   \n",
       "\n",
       "       padres_hijos_abordo     tarifa  \n",
       "count           887.000000  887.00000  \n",
       "mean              0.383315   32.30542  \n",
       "std               0.807466   49.78204  \n",
       "min               0.000000    0.00000  \n",
       "25%               0.000000    7.92500  \n",
       "50%               0.000000   14.45420  \n",
       "75%               0.000000   31.13750  \n",
       "max               6.000000  512.32920  "
      ]
     },
     "execution_count": 108,
     "metadata": {},
     "output_type": "execute_result"
    }
   ],
   "source": [
    "df_titanic.describe()"
   ]
  },
  {
   "cell_type": "markdown",
   "id": "094a982f-b7ea-433b-a38b-f9321e66526d",
   "metadata": {},
   "source": [
    "Se observa que por ejm la edad esta de tipo flotante, esto se debe ajustara un valor entero"
   ]
  },
  {
   "cell_type": "code",
   "execution_count": 80,
   "id": "3514da4e-cc81-4e35-84f0-0b4218649ac1",
   "metadata": {},
   "outputs": [],
   "source": [
    "# funcion para redondear \n",
    "def redondeo_personalizado(valor):\n",
    "    if valor <= 1:\n",
    "        return 1\n",
    "    else:\n",
    "        return round(valor)\n"
   ]
  },
  {
   "cell_type": "code",
   "execution_count": 109,
   "id": "15b092bb-eb0a-4538-b208-cf38861609db",
   "metadata": {},
   "outputs": [],
   "source": [
    "df_titanic['edad']=df_titanic['edad'].apply(redondeo_personalizado)"
   ]
  },
  {
   "cell_type": "markdown",
   "id": "b6551ac6-ded0-49ff-8c41-9adbfb606325",
   "metadata": {},
   "source": [
    "Ahora agrupemos los datos con rangos de edad esto nos permitira ver otra perspectiva de los datos"
   ]
  },
  {
   "cell_type": "code",
   "execution_count": 111,
   "id": "c3ba2eea-4e28-41c9-9e3a-acd8327b3fca",
   "metadata": {},
   "outputs": [],
   "source": [
    "### funcion para rango edad\n",
    "def clasifica_edad(edad):\n",
    "    if 0<= edad <= 12:\n",
    "        return 'Niño'\n",
    "    elif 13 <= edad <= 17:\n",
    "        return 'Adolescente'\n",
    "    elif 18 <= edad <= 30:\n",
    "        return 'Adulto Joven'\n",
    "    elif 31 <= edad <= 59:\n",
    "        return 'Adulto'\n",
    "    elif edad>=60:\n",
    "        return 'Adulto mayor'\n",
    "    else:\n",
    "        return 'Desconocido'"
   ]
  },
  {
   "cell_type": "code",
   "execution_count": 114,
   "id": "8959080f-539d-4ad8-898a-bdea6db2c1c0",
   "metadata": {},
   "outputs": [
    {
     "data": {
      "text/html": [
       "<div>\n",
       "<style scoped>\n",
       "    .dataframe tbody tr th:only-of-type {\n",
       "        vertical-align: middle;\n",
       "    }\n",
       "\n",
       "    .dataframe tbody tr th {\n",
       "        vertical-align: top;\n",
       "    }\n",
       "\n",
       "    .dataframe thead th {\n",
       "        text-align: right;\n",
       "    }\n",
       "</style>\n",
       "<table border=\"1\" class=\"dataframe\">\n",
       "  <thead>\n",
       "    <tr style=\"text-align: right;\">\n",
       "      <th>supervivencia</th>\n",
       "      <th>0</th>\n",
       "      <th>1</th>\n",
       "    </tr>\n",
       "    <tr>\n",
       "      <th>rango_edad</th>\n",
       "      <th></th>\n",
       "      <th></th>\n",
       "    </tr>\n",
       "  </thead>\n",
       "  <tbody>\n",
       "    <tr>\n",
       "      <th>Adolescente</th>\n",
       "      <td>29</td>\n",
       "      <td>22</td>\n",
       "    </tr>\n",
       "    <tr>\n",
       "      <th>Adulto</th>\n",
       "      <td>191</td>\n",
       "      <td>138</td>\n",
       "    </tr>\n",
       "    <tr>\n",
       "      <th>Adulto Joven</th>\n",
       "      <td>265</td>\n",
       "      <td>132</td>\n",
       "    </tr>\n",
       "    <tr>\n",
       "      <th>Adulto mayor</th>\n",
       "      <td>24</td>\n",
       "      <td>7</td>\n",
       "    </tr>\n",
       "    <tr>\n",
       "      <th>Niño</th>\n",
       "      <td>36</td>\n",
       "      <td>43</td>\n",
       "    </tr>\n",
       "  </tbody>\n",
       "</table>\n",
       "</div>"
      ],
      "text/plain": [
       "supervivencia    0    1\n",
       "rango_edad             \n",
       "Adolescente     29   22\n",
       "Adulto         191  138\n",
       "Adulto Joven   265  132\n",
       "Adulto mayor    24    7\n",
       "Niño            36   43"
      ]
     },
     "execution_count": 114,
     "metadata": {},
     "output_type": "execute_result"
    }
   ],
   "source": [
    "df_titanic['rango_edad']=df_titanic['edad'].apply(clasifica_edad)\n",
    "matriz2 = pd.crosstab(df_titanic['rango_edad'], df_titanic['supervivencia'])\n",
    "matriz2"
   ]
  },
  {
   "cell_type": "markdown",
   "id": "6b7bb68e-f562-4e2f-b5c5-573a93e0ef95",
   "metadata": {},
   "source": [
    "### Conclusión"
   ]
  },
  {
   "cell_type": "markdown",
   "id": "5181afa0-3735-40ac-bf7f-d8b4f22441f3",
   "metadata": {},
   "source": [
    "Los datos analizados de este conjuntos de datos de las personas que viajaron en el Titanic, se identifico con los datos la forma en que realizaron la evacuacion, donde le dieron prioridad a las mujeres, la poblacion que mas fallecio fueron los hombres en general. Al ver los datos por rangos vemos que fueron mas Adolescentes que fallecieron de los que se salvaron, los niños ahi una leve ventaja de los que se salvaron, pero sin embargo los fallecidos fueron bastantes, con respecto a los adultos si la gran mayoria murieron y los adulto mayores si fueron muy poco los que se salvaron siendo su poblacion la mas pequeña dentro del barco. Los datos no estaban malos a nivel de calidad y esto permite que los analisis sean mas precisos."
   ]
  },
  {
   "cell_type": "code",
   "execution_count": null,
   "id": "d8ef23cf-9a02-4148-ab66-390ef768407d",
   "metadata": {},
   "outputs": [],
   "source": []
  }
 ],
 "metadata": {
  "kernelspec": {
   "display_name": "Python 3 (ipykernel)",
   "language": "python",
   "name": "python3"
  },
  "language_info": {
   "codemirror_mode": {
    "name": "ipython",
    "version": 3
   },
   "file_extension": ".py",
   "mimetype": "text/x-python",
   "name": "python",
   "nbconvert_exporter": "python",
   "pygments_lexer": "ipython3",
   "version": "3.11.7"
  }
 },
 "nbformat": 4,
 "nbformat_minor": 5
}
